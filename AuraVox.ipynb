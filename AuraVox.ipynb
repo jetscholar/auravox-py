{
 "cells": [
  {
   "cell_type": "markdown",
   "id": "374fdcdb",
   "metadata": {},
   "source": [
    "# AuraVox\n",
    "\n",
    "### My Personal Virtual Assistant\n",
    "\n"
   ]
  },
  {
   "cell_type": "code",
   "execution_count": 7,
   "id": "144a3522",
   "metadata": {},
   "outputs": [],
   "source": [
    "import tkinter as tk\n",
    "from tkinter import scrolledtext\n",
    "from PIL import ImageTk\n",
    "\n",
    "bg_color = \"#1b72a7\""
   ]
  },
  {
   "cell_type": "code",
   "execution_count": 8,
   "id": "b9cd895a",
   "metadata": {},
   "outputs": [
    {
     "ename": "TclError",
     "evalue": "image \"pyimage5\" doesn't exist",
     "output_type": "error",
     "traceback": [
      "\u001b[0;31m---------------------------------------------------------------------------\u001b[0m",
      "\u001b[0;31mTclError\u001b[0m                                  Traceback (most recent call last)",
      "Cell \u001b[0;32mIn[8], line 67\u001b[0m\n\u001b[1;32m     64\u001b[0m     root\u001b[38;5;241m.\u001b[39mmainloop()\n\u001b[1;32m     66\u001b[0m \u001b[38;5;28;01mif\u001b[39;00m \u001b[38;5;18m__name__\u001b[39m \u001b[38;5;241m==\u001b[39m \u001b[38;5;124m\"\u001b[39m\u001b[38;5;124m__main__\u001b[39m\u001b[38;5;124m\"\u001b[39m:\n\u001b[0;32m---> 67\u001b[0m     \u001b[43mmain\u001b[49m\u001b[43m(\u001b[49m\u001b[43m)\u001b[49m\n",
      "Cell \u001b[0;32mIn[8], line 57\u001b[0m, in \u001b[0;36mmain\u001b[0;34m()\u001b[0m\n\u001b[1;32m     55\u001b[0m \u001b[38;5;66;03m#frame1 widgets\u001b[39;00m\n\u001b[1;32m     56\u001b[0m logo_img \u001b[38;5;241m=\u001b[39m ImageTk\u001b[38;5;241m.\u001b[39mPhotoImage(file\u001b[38;5;241m=\u001b[39m\u001b[38;5;124m\"\u001b[39m\u001b[38;5;124massets/Aura.png\u001b[39m\u001b[38;5;124m\"\u001b[39m)\n\u001b[0;32m---> 57\u001b[0m logo_widget \u001b[38;5;241m=\u001b[39m \u001b[43mtk\u001b[49m\u001b[38;5;241;43m.\u001b[39;49m\u001b[43mLabel\u001b[49m\u001b[43m(\u001b[49m\u001b[43mframe1\u001b[49m\u001b[43m,\u001b[49m\u001b[43m \u001b[49m\u001b[43mimage\u001b[49m\u001b[38;5;241;43m=\u001b[39;49m\u001b[43mlogo_img\u001b[49m\u001b[43m,\u001b[49m\u001b[43m \u001b[49m\u001b[43mbg\u001b[49m\u001b[38;5;241;43m=\u001b[39;49m\u001b[43mbg_color\u001b[49m\u001b[43m)\u001b[49m\n\u001b[1;32m     58\u001b[0m logo_widget\u001b[38;5;241m.\u001b[39mimage \u001b[38;5;241m=\u001b[39m logo_img\n\u001b[1;32m     59\u001b[0m logo_widget\u001b[38;5;241m.\u001b[39mpack()\n",
      "File \u001b[0;32m~/anaconda3/lib/python3.10/tkinter/__init__.py:3187\u001b[0m, in \u001b[0;36mLabel.__init__\u001b[0;34m(self, master, cnf, **kw)\u001b[0m\n\u001b[1;32m   3169\u001b[0m \u001b[38;5;28;01mdef\u001b[39;00m \u001b[38;5;21m__init__\u001b[39m(\u001b[38;5;28mself\u001b[39m, master\u001b[38;5;241m=\u001b[39m\u001b[38;5;28;01mNone\u001b[39;00m, cnf\u001b[38;5;241m=\u001b[39m{}, \u001b[38;5;241m*\u001b[39m\u001b[38;5;241m*\u001b[39mkw):\n\u001b[1;32m   3170\u001b[0m     \u001b[38;5;124;03m\"\"\"Construct a label widget with the parent MASTER.\u001b[39;00m\n\u001b[1;32m   3171\u001b[0m \n\u001b[1;32m   3172\u001b[0m \u001b[38;5;124;03m    STANDARD OPTIONS\u001b[39;00m\n\u001b[0;32m   (...)\u001b[0m\n\u001b[1;32m   3185\u001b[0m \n\u001b[1;32m   3186\u001b[0m \u001b[38;5;124;03m    \"\"\"\u001b[39;00m\n\u001b[0;32m-> 3187\u001b[0m     \u001b[43mWidget\u001b[49m\u001b[38;5;241;43m.\u001b[39;49m\u001b[38;5;21;43m__init__\u001b[39;49m\u001b[43m(\u001b[49m\u001b[38;5;28;43mself\u001b[39;49m\u001b[43m,\u001b[49m\u001b[43m \u001b[49m\u001b[43mmaster\u001b[49m\u001b[43m,\u001b[49m\u001b[43m \u001b[49m\u001b[38;5;124;43m'\u001b[39;49m\u001b[38;5;124;43mlabel\u001b[39;49m\u001b[38;5;124;43m'\u001b[39;49m\u001b[43m,\u001b[49m\u001b[43m \u001b[49m\u001b[43mcnf\u001b[49m\u001b[43m,\u001b[49m\u001b[43m \u001b[49m\u001b[43mkw\u001b[49m\u001b[43m)\u001b[49m\n",
      "File \u001b[0;32m~/anaconda3/lib/python3.10/tkinter/__init__.py:2601\u001b[0m, in \u001b[0;36mBaseWidget.__init__\u001b[0;34m(self, master, widgetName, cnf, kw, extra)\u001b[0m\n\u001b[1;32m   2599\u001b[0m \u001b[38;5;28;01mfor\u001b[39;00m k, v \u001b[38;5;129;01min\u001b[39;00m classes:\n\u001b[1;32m   2600\u001b[0m     \u001b[38;5;28;01mdel\u001b[39;00m cnf[k]\n\u001b[0;32m-> 2601\u001b[0m \u001b[38;5;28;43mself\u001b[39;49m\u001b[38;5;241;43m.\u001b[39;49m\u001b[43mtk\u001b[49m\u001b[38;5;241;43m.\u001b[39;49m\u001b[43mcall\u001b[49m\u001b[43m(\u001b[49m\n\u001b[1;32m   2602\u001b[0m \u001b[43m    \u001b[49m\u001b[43m(\u001b[49m\u001b[43mwidgetName\u001b[49m\u001b[43m,\u001b[49m\u001b[43m \u001b[49m\u001b[38;5;28;43mself\u001b[39;49m\u001b[38;5;241;43m.\u001b[39;49m\u001b[43m_w\u001b[49m\u001b[43m)\u001b[49m\u001b[43m \u001b[49m\u001b[38;5;241;43m+\u001b[39;49m\u001b[43m \u001b[49m\u001b[43mextra\u001b[49m\u001b[43m \u001b[49m\u001b[38;5;241;43m+\u001b[39;49m\u001b[43m \u001b[49m\u001b[38;5;28;43mself\u001b[39;49m\u001b[38;5;241;43m.\u001b[39;49m\u001b[43m_options\u001b[49m\u001b[43m(\u001b[49m\u001b[43mcnf\u001b[49m\u001b[43m)\u001b[49m\u001b[43m)\u001b[49m\n\u001b[1;32m   2603\u001b[0m \u001b[38;5;28;01mfor\u001b[39;00m k, v \u001b[38;5;129;01min\u001b[39;00m classes:\n\u001b[1;32m   2604\u001b[0m     k\u001b[38;5;241m.\u001b[39mconfigure(\u001b[38;5;28mself\u001b[39m, v)\n",
      "\u001b[0;31mTclError\u001b[0m: image \"pyimage5\" doesn't exist"
     ]
    }
   ],
   "source": [
    "class ChatbotGUI:\n",
    "    def __init__(self, master):\n",
    "        self.master = master\n",
    "        master.title(\"AuraVox\")\n",
    "\n",
    "        # Create scrolled text widget for the chat display\n",
    "        self.chat_display = scrolledtext.ScrolledText(master, wrap=tk.WORD, width=40, height=15)\n",
    "        self.chat_display.grid(row=0, column=0, columnspan=2, padx=10, pady=10)\n",
    "\n",
    "        # Create entry widget for user input\n",
    "        self.user_input = tk.Entry(master, width=30)\n",
    "        self.user_input.grid(row=1, column=0, padx=10, pady=10)\n",
    "\n",
    "        # Create send button\n",
    "        self.send_button = tk.Button(master, text=\"Send\", command=self.send_message)\n",
    "        self.send_button.grid(row=1, column=1, padx=10, pady=10)\n",
    "\n",
    "        # Keep a reference to the logo image\n",
    "        self.logo_img = ImageTk.PhotoImage(file=\"assets/Aura.png\")\n",
    "        self.logo_widget = tk.Label(master, image=self.logo_img, bg=bg_color)\n",
    "        self.logo_widget.image = self.logo_img  # Keep this line to prevent garbage collection\n",
    "        self.logo_widget.grid(row=2, column=0, columnspan=2, pady=10)\n",
    "\n",
    "\n",
    "    def send_message(self):\n",
    "        user_message = self.user_input.get()\n",
    "        self.display_message(f\"User: {user_message}\")\n",
    "\n",
    "        # Replace this with your chatbot logic to generate a response\n",
    "        chatbot_response = \"AuraVox: Hi there! How can I help you?\"\n",
    "        self.display_message(chatbot_response)\n",
    "\n",
    "        # Clear the user input\n",
    "        self.user_input.delete(0, tk.END)\n",
    "\n",
    "    def display_message(self, message):\n",
    "        self.chat_display.insert(tk.END, f\"{message}\\n\")\n",
    "        self.chat_display.yview(tk.END)  # Auto-scroll to the bottom\n",
    "\n",
    "def main():\n",
    "    root = tk.Tk()\n",
    "    root.title(\"AuraVox\")\n",
    "    \n",
    "    # Placing the window on the screen\n",
    "    #root.eval(\"tk::PlaceWindow . center\")\n",
    "    x = root.winfo_screenwidth() // 2\n",
    "    y = int(root.winfo_screenheight() * 0.1)\n",
    "    root.geometry('500x600+' + str(x) + '+' + str(y))\n",
    "    \n",
    "    # frame methods\n",
    "    frame1 = tk.Frame(root, width=500, height=600, bg=bg_color)\n",
    "    frame1.grid(row=0, column=0)\n",
    "    frame1.pack_propagate(False)\n",
    "    \n",
    "    #frame1 widgets\n",
    "    logo_img = ImageTk.PhotoImage(file=\"assets/Aura.png\")\n",
    "    logo_widget = tk.Label(frame1, image=logo_img, bg=bg_color)\n",
    "    logo_widget.image = logo_img\n",
    "    logo_widget.pack()\n",
    "    \n",
    "    chatbot_app = ChatbotGUI(frame1)\n",
    "    \n",
    "    # Run the app\n",
    "    root.mainloop()\n",
    "\n",
    "if __name__ == \"__main__\":\n",
    "    main()\n"
   ]
  },
  {
   "cell_type": "code",
   "execution_count": null,
   "id": "3da84e30",
   "metadata": {},
   "outputs": [],
   "source": []
  },
  {
   "cell_type": "code",
   "execution_count": null,
   "id": "a67af3dd",
   "metadata": {},
   "outputs": [],
   "source": []
  }
 ],
 "metadata": {
  "kernelspec": {
   "display_name": "Python 3 (ipykernel)",
   "language": "python",
   "name": "python3"
  },
  "language_info": {
   "codemirror_mode": {
    "name": "ipython",
    "version": 3
   },
   "file_extension": ".py",
   "mimetype": "text/x-python",
   "name": "python",
   "nbconvert_exporter": "python",
   "pygments_lexer": "ipython3",
   "version": "3.10.9"
  }
 },
 "nbformat": 4,
 "nbformat_minor": 5
}
