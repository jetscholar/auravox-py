{
 "cells": [
  {
   "cell_type": "markdown",
   "metadata": {},
   "source": [
    "# OpenAI Assistants API Integration\n",
    "\n",
    "- [AssemblyAI - Tutorial](https://www.youtube.com/watch?v=5rcjGjgJNQc)"
   ]
  },
  {
   "cell_type": "code",
   "execution_count": 308,
   "metadata": {},
   "outputs": [],
   "source": [
    "# Import Libraries\n",
    "from openai import OpenAI\n",
    "import time\n"
   ]
  },
  {
   "cell_type": "markdown",
   "metadata": {},
   "source": [
    "### Get an OpenAI API Key\n",
    "Here are the general steps to get an OpenAI API key:\n",
    "\n",
    "1. **Visit the OpenAI Website:**\n",
    "   Go to the official OpenAI website at [https://www.openai.com/](https://www.openai.com/).\n",
    "\n",
    "2. **Sign Up / Log In:**\n",
    "   If you already have an account, log in. If not, sign up for a new account.\n",
    "\n",
    "3. **Navigate to API Section:**\n",
    "   Once logged in, navigate to the API section. This is where you can find information about OpenAI's API services.\n",
    "\n",
    "4. **Review Documentation:**\n",
    "   Familiarize yourself with the API documentation to understand how to use the API, available models, endpoints, and any specific requirements or limitations.\n",
    "\n",
    "5. **Request Access:**\n",
    "   In some cases, you may need to request access to the API. Follow the instructions provided on the OpenAI website to request access.\n",
    "\n",
    "6. **Obtain API Key:**\n",
    "   After your request is approved (if required), you should be able to obtain your API key. The key is typically found in your account settings or API dashboard.\n",
    "\n",
    "7. **Use API Key:**\n",
    "   Once you have the API key, you can use it in your code to make requests to OpenAI's API. Follow the guidelines and code examples provided in the documentation.\n",
    "\n",
    "8. **Understand Usage Limits and Costs:**\n",
    "   Be aware of any usage limits and costs associated with the API. OpenAI may have different pricing plans based on usage, so review the pricing details to understand how your usage will be billed.\n"
   ]
  },
  {
   "cell_type": "code",
   "execution_count": 309,
   "metadata": {},
   "outputs": [],
   "source": [
    "# My API Key \n",
    "client = OpenAI(api_key = \"Your_Key_Here\")"
   ]
  },
  {
   "cell_type": "markdown",
   "metadata": {},
   "source": [
    "### Step 1: Create the Assistant"
   ]
  },
  {
   "cell_type": "code",
   "execution_count": 310,
   "metadata": {},
   "outputs": [],
   "source": [
    "assistant = client.beta.assistants.create(\n",
    "    name = \"Aura Vox\",\n",
    "    instructions = \"You are apersonal math tutor. Write and run code to answer math questions\",\n",
    "    tools = [{\"type\": \"code_interpreter\"}],\n",
    "    #model = \"gpt-3.5-turbo\"\n",
    "    model = \"gpt-4-1106-preview\"\n",
    ")"
   ]
  },
  {
   "cell_type": "markdown",
   "metadata": {},
   "source": [
    "### Step 2: Create a Thread"
   ]
  },
  {
   "cell_type": "code",
   "execution_count": 311,
   "metadata": {},
   "outputs": [
    {
     "name": "stdout",
     "output_type": "stream",
     "text": [
      "Thread(id='thread_13qtKjpsM1JrHJHKYsiSfRtK', created_at=1701036114, metadata={}, object='thread')\n"
     ]
    }
   ],
   "source": [
    "thread = client.beta.threads.create()\n",
    "print(thread)"
   ]
  },
  {
   "cell_type": "markdown",
   "metadata": {},
   "source": [
    "### Step3: Add a message to a Thread"
   ]
  },
  {
   "cell_type": "code",
   "execution_count": 312,
   "metadata": {},
   "outputs": [],
   "source": [
    "message = client.beta.threads.messages.create(\n",
    "    thread_id = thread.id,\n",
    "    role = \"user\",\n",
    "    content = \"Solve this problem: 3x + 11 = 14\"\n",
    ")"
   ]
  },
  {
   "cell_type": "code",
   "execution_count": 313,
   "metadata": {},
   "outputs": [
    {
     "name": "stdout",
     "output_type": "stream",
     "text": [
      "ThreadMessage(id='msg_NFW4vmaumdxiOLtOT9Rd7KPZ', assistant_id=None, content=[MessageContentText(text=Text(annotations=[], value='Solve this problem: 3x + 11 = 14'), type='text')], created_at=1701036114, file_ids=[], metadata={}, object='thread.message', role='user', run_id=None, thread_id='thread_13qtKjpsM1JrHJHKYsiSfRtK')\n"
     ]
    }
   ],
   "source": [
    "print(message)"
   ]
  },
  {
   "cell_type": "markdown",
   "metadata": {},
   "source": [
    "### Step4: Run the Assistant"
   ]
  },
  {
   "cell_type": "code",
   "execution_count": 314,
   "metadata": {},
   "outputs": [],
   "source": [
    "run = client.beta.threads.runs.create(\n",
    "    thread_id = thread.id,\n",
    "    assistant_id = assistant.id\n",
    ")"
   ]
  },
  {
   "cell_type": "markdown",
   "metadata": {},
   "source": [
    "### Step 5: Display the Assistant's Response"
   ]
  },
  {
   "cell_type": "code",
   "execution_count": 315,
   "metadata": {},
   "outputs": [],
   "source": [
    "time.sleep(15)\n",
    "run = client.beta.threads.runs.retrieve(\n",
    "    thread_id = thread.id,\n",
    "    run_id = run.id\n",
    ")"
   ]
  },
  {
   "cell_type": "code",
   "execution_count": 316,
   "metadata": {},
   "outputs": [],
   "source": [
    "messages = client.beta.threads.messages.list(\n",
    "    thread_id = thread.id\n",
    ")"
   ]
  },
  {
   "cell_type": "code",
   "execution_count": 317,
   "metadata": {},
   "outputs": [
    {
     "name": "stdout",
     "output_type": "stream",
     "text": [
      "user: Solve this problem: 3x + 11 = 14\n",
      "assistant: The solution to the equation \\(3x + 11 = 14\\) is \\(x = 1\\).\n"
     ]
    }
   ],
   "source": [
    "for message in reversed(messages.data):\n",
    "    print(message.role + \": \" + message.content[0].text.value)"
   ]
  }
 ],
 "metadata": {
  "kernelspec": {
   "display_name": "aura",
   "language": "python",
   "name": "python3"
  },
  "language_info": {
   "codemirror_mode": {
    "name": "ipython",
    "version": 3
   },
   "file_extension": ".py",
   "mimetype": "text/x-python",
   "name": "python",
   "nbconvert_exporter": "python",
   "pygments_lexer": "ipython3",
   "version": "3.11.3"
  }
 },
 "nbformat": 4,
 "nbformat_minor": 2
}
